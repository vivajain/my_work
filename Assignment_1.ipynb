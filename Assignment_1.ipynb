{
  "nbformat": 4,
  "nbformat_minor": 0,
  "metadata": {
    "colab": {
      "provenance": []
    },
    "kernelspec": {
      "name": "python3",
      "display_name": "Python 3"
    },
    "language_info": {
      "name": "python"
    }
  },
  "cells": [
    {
      "cell_type": "code",
      "execution_count": 1,
      "metadata": {
        "id": "j_cY5EXy-RTj"
      },
      "outputs": [],
      "source": [
        "#Assignment 1\n",
        "#1. In the below elements which of them are values or an expression? eg:- values can be integer or string and expressions will be mathematical operators.\n",
        "# * - Expression\n",
        "# hello - Value\n",
        "# -87.8  - Value\n",
        "# - Expression\n",
        "# / - Expression\n",
        "# + - Expression"
      ]
    },
    {
      "cell_type": "code",
      "source": [
        "# 2. What is the difference between string and variable?\n",
        "# String is a data type which is enclosed by single quotes or double quotes. Variable is a name given to identfier where data can be stored. string data type can be stored in variable.\n",
        "# Eg: x=\"Ram\" - x is variable and \"Ram\" is string data type which is stored in variable x\n",
        "x=\"Ram\"\n",
        "print(type(x))"
      ],
      "metadata": {
        "colab": {
          "base_uri": "https://localhost:8080/"
        },
        "id": "rqhUOeoo--xm",
        "outputId": "7235871d-7d73-4585-ce5b-e6af359aa586"
      },
      "execution_count": 5,
      "outputs": [
        {
          "output_type": "stream",
          "name": "stdout",
          "text": [
            "<class 'str'>\n"
          ]
        }
      ]
    },
    {
      "cell_type": "code",
      "source": [
        "#3. Describe three different data types.\n",
        "# 3 data types are - Integer, float and string\n",
        "# For integer data type is represented by \"int\" which is a number without decimal values. Eg: 2, 5, 100, 35, 1265\n",
        "# For float data type is represented by \"float\" which is number with decimal values. Eg: 2.4, 4.5, 101.23, 3000.23, 18236.22\n",
        "# For string data type is represented by \"str\" which is collection of characters enclosed in single quotes or double quotes. Eg: \"John\", \"xyz123\", \"My name is Suresh\", \" 1, 2, 3, a, b, c\"\n",
        "x=1\n",
        "y=2.2\n",
        "z=\"Bhupi\"\n",
        "print(type(x))\n",
        "print(type(y))\n",
        "print(type(z))"
      ],
      "metadata": {
        "colab": {
          "base_uri": "https://localhost:8080/"
        },
        "id": "eG3TBpzRBJrx",
        "outputId": "eac64e9d-1714-4a94-e4ac-37facc7516db"
      },
      "execution_count": 4,
      "outputs": [
        {
          "output_type": "stream",
          "name": "stdout",
          "text": [
            "<class 'int'>\n",
            "<class 'float'>\n",
            "<class 'str'>\n"
          ]
        }
      ]
    },
    {
      "cell_type": "code",
      "source": [
        "#4. What is an expression made up of? What do all expressions do?\n",
        "# Expression is a contains operators and operands which produces some result/value. It is a combination of operator and operands.\n",
        "# For example : a = a + 6\n",
        "a= 20\n",
        "b= a + 6\n",
        "print(b)\n",
        "# In the above example b = a + 6 is an expression. + sign is addition operator. 6 will be added to a and result will be stored in b."
      ],
      "metadata": {
        "colab": {
          "base_uri": "https://localhost:8080/"
        },
        "id": "mN7OcRTkCa1-",
        "outputId": "daa8b761-fea5-4754-99ae-8b511b77538b"
      },
      "execution_count": 7,
      "outputs": [
        {
          "output_type": "stream",
          "name": "stdout",
          "text": [
            "26\n"
          ]
        }
      ]
    },
    {
      "cell_type": "code",
      "source": [
        "# 5. This assignment statements, like spam = 10. What is the difference between an expression and a statement?\n",
        "# Statement is used to declare or create variables. Expression is used to produce some values or result using Python intrepreter. Expressions are statements as well.\n",
        "x= 19 # Statement\n",
        "y = x + 1 # Expression where we are using arithmatic operator to add 1 to variable x and store the result in variable y."
      ],
      "metadata": {
        "id": "pPMKYqgaF0Rd"
      },
      "execution_count": 8,
      "outputs": []
    },
    {
      "cell_type": "code",
      "source": [
        "#6. After running the following code, what does the variable bacon contain?\n",
        "bacon = 22\n",
        "bacon + 1"
      ],
      "metadata": {
        "colab": {
          "base_uri": "https://localhost:8080/"
        },
        "id": "KlYHOPKTIvwt",
        "outputId": "650a267f-6b44-406b-86d0-32edb48568c7"
      },
      "execution_count": 9,
      "outputs": [
        {
          "output_type": "execute_result",
          "data": {
            "text/plain": [
              "23"
            ]
          },
          "metadata": {},
          "execution_count": 9
        }
      ]
    },
    {
      "cell_type": "code",
      "source": [
        "#7. What should the values of the following two terms be?\n",
        "'spam' + 'spamspam'\n",
        "'spam' * 3"
      ],
      "metadata": {
        "colab": {
          "base_uri": "https://localhost:8080/",
          "height": 38
        },
        "id": "SI_Z1ipjI3TQ",
        "outputId": "a98c7b00-b458-472d-aed2-72043dcf669c"
      },
      "execution_count": 10,
      "outputs": [
        {
          "output_type": "execute_result",
          "data": {
            "text/plain": [
              "'spamspamspam'"
            ],
            "application/vnd.google.colaboratory.intrinsic+json": {
              "type": "string"
            }
          },
          "metadata": {},
          "execution_count": 10
        }
      ]
    },
    {
      "cell_type": "code",
      "source": [
        "#8. Why is eggs a valid variable name while 100 is invalid?\n",
        "# eggs is variable starts with alphabet with no special character other than underscore. variables are combination of alphabets (both uppercase and lower case), numbers and underscore\n",
        "# 100 is invalid because it is starting with number. Variable starting with numbers are invalid. They should start with alphabets or underscore\n",
        "eggs = 1\n",
        "_100 = 2\n",
        "print(eggs)\n",
        "print(_100)\n",
        "print(100)"
      ],
      "metadata": {
        "colab": {
          "base_uri": "https://localhost:8080/"
        },
        "id": "t7-fIjCiJYXV",
        "outputId": "b6f8a3cc-7110-4f25-d21c-191cfa7fbcdc"
      },
      "execution_count": 16,
      "outputs": [
        {
          "output_type": "stream",
          "name": "stdout",
          "text": [
            "1\n",
            "2\n",
            "100\n"
          ]
        }
      ]
    },
    {
      "cell_type": "code",
      "source": [
        "#9. What three functions can be used to get the integer, floating-point number, or string version of a value?\n",
        "# Int() will evaluate integer value. float() will evaluate floating value. str() will evaluate string value."
      ],
      "metadata": {
        "id": "yVo22ifFK4tO"
      },
      "execution_count": 17,
      "outputs": []
    },
    {
      "cell_type": "code",
      "source": [
        "#10. Why does this expression cause an error? How can you fix it?\n",
        "#'I have eaten ' + 99 + ' burritos' # 99 is a integer so we are getting. we need change 99 data type to string\n",
        "print('I have eaten ' + '99' + ' burritos')\n",
        "print('I have eaten ' + str(99) + ' burritos')\n"
      ],
      "metadata": {
        "colab": {
          "base_uri": "https://localhost:8080/"
        },
        "id": "8vPTiEHTM-LD",
        "outputId": "6c902f8e-ebfa-4471-99e0-254e2e071fdb"
      },
      "execution_count": 23,
      "outputs": [
        {
          "output_type": "stream",
          "name": "stdout",
          "text": [
            "I have eaten 99 burritos\n",
            "I have eaten 99 burritos\n"
          ]
        }
      ]
    },
    {
      "cell_type": "code",
      "source": [],
      "metadata": {
        "id": "zgXL20tSNMQw"
      },
      "execution_count": null,
      "outputs": []
    }
  ]
}