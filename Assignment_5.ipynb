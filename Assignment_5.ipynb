{
  "nbformat": 4,
  "nbformat_minor": 0,
  "metadata": {
    "colab": {
      "provenance": []
    },
    "kernelspec": {
      "name": "python3",
      "display_name": "Python 3"
    },
    "language_info": {
      "name": "python"
    }
  },
  "cells": [
    {
      "cell_type": "code",
      "execution_count": 8,
      "metadata": {
        "colab": {
          "base_uri": "https://localhost:8080/"
        },
        "id": "wvaj3wf-OniC",
        "outputId": "5318ab25-2e9c-4818-8b89-0272dd7f2a51"
      },
      "outputs": [
        {
          "output_type": "execute_result",
          "data": {
            "text/plain": [
              "dict"
            ]
          },
          "metadata": {},
          "execution_count": 8
        }
      ],
      "source": [
        "#1. What does an empty dictionary's code look like?\n",
        "dict = {}\n",
        "type(dict)"
      ]
    },
    {
      "cell_type": "code",
      "source": [
        "#2. What is the value of a dictionary value with the key 'foo' and the value 42?\n",
        "# {'foo':42}"
      ],
      "metadata": {
        "id": "F47Uiaq_PJ9c"
      },
      "execution_count": 1,
      "outputs": []
    },
    {
      "cell_type": "code",
      "source": [
        "#3. What is the most significant distinction between a dictionary and a list?\n",
        "# Items in list are ordered and items in dictionary are unordered"
      ],
      "metadata": {
        "id": "R-PqhnnsSiX7"
      },
      "execution_count": 9,
      "outputs": []
    },
    {
      "cell_type": "code",
      "source": [
        "#4. What happens if you try to access spam['foo'] if spam is {'bar': 100}?\n",
        "spam = {'bar':100}\n",
        "spam['foo']\n",
        "#This will give us key error"
      ],
      "metadata": {
        "colab": {
          "base_uri": "https://localhost:8080/",
          "height": 217
        },
        "id": "N0DTast9Smmv",
        "outputId": "38c78046-389f-4ceb-995e-bc4e7f53330e"
      },
      "execution_count": 16,
      "outputs": [
        {
          "output_type": "error",
          "ename": "KeyError",
          "evalue": "ignored",
          "traceback": [
            "\u001b[0;31m---------------------------------------------------------------------------\u001b[0m",
            "\u001b[0;31mKeyError\u001b[0m                                  Traceback (most recent call last)",
            "\u001b[0;32m<ipython-input-16-17cbf6cb1630>\u001b[0m in \u001b[0;36m<cell line: 3>\u001b[0;34m()\u001b[0m\n\u001b[1;32m      1\u001b[0m \u001b[0;31m#4. What happens if you try to access spam['foo'] if spam is {'bar': 100}?\u001b[0m\u001b[0;34m\u001b[0m\u001b[0;34m\u001b[0m\u001b[0m\n\u001b[1;32m      2\u001b[0m \u001b[0mspam\u001b[0m \u001b[0;34m=\u001b[0m \u001b[0;34m{\u001b[0m\u001b[0;34m'bar'\u001b[0m\u001b[0;34m:\u001b[0m\u001b[0;36m100\u001b[0m\u001b[0;34m}\u001b[0m\u001b[0;34m\u001b[0m\u001b[0;34m\u001b[0m\u001b[0m\n\u001b[0;32m----> 3\u001b[0;31m \u001b[0mspam\u001b[0m\u001b[0;34m[\u001b[0m\u001b[0;34m'foo'\u001b[0m\u001b[0;34m]\u001b[0m\u001b[0;34m\u001b[0m\u001b[0;34m\u001b[0m\u001b[0m\n\u001b[0m\u001b[1;32m      4\u001b[0m \u001b[0;31m#This will give us key error\u001b[0m\u001b[0;34m\u001b[0m\u001b[0;34m\u001b[0m\u001b[0m\n",
            "\u001b[0;31mKeyError\u001b[0m: 'foo'"
          ]
        }
      ]
    },
    {
      "cell_type": "code",
      "source": [
        "#5. If a dictionary is stored in spam, what is the difference between the expressions 'cat' in spam and 'cat' in spam.keys()?\n",
        "spam ={'cat':100}\n",
        "'cat' in spam\n",
        "'cat' in spam.keys()\n",
        "#There is no differnce, both check if 'cat' is key of the dictionary and if its a key, returns True."
      ],
      "metadata": {
        "colab": {
          "base_uri": "https://localhost:8080/"
        },
        "id": "qHp8fWr8St8O",
        "outputId": "0949dd5a-d280-47b7-f99a-158543894e29"
      },
      "execution_count": 10,
      "outputs": [
        {
          "output_type": "execute_result",
          "data": {
            "text/plain": [
              "True"
            ]
          },
          "metadata": {},
          "execution_count": 10
        }
      ]
    },
    {
      "cell_type": "code",
      "source": [
        "#6. If a dictionary is stored in spam, what is the difference between the expressions 'cat' in spam and 'cat' in spam.values()?\n",
        "spam ={'cat':100}\n",
        "print('cat' in spam)\n",
        "print('cat' in spam.values())"
      ],
      "metadata": {
        "colab": {
          "base_uri": "https://localhost:8080/"
        },
        "id": "-bY6ElzFS1LS",
        "outputId": "93cd030c-68ae-4fdd-c069-688d22314491"
      },
      "execution_count": 13,
      "outputs": [
        {
          "output_type": "stream",
          "name": "stdout",
          "text": [
            "True\n",
            "False\n"
          ]
        }
      ]
    },
    {
      "cell_type": "code",
      "source": [
        "#7. What is a shortcut for the following code?\n",
        "#if 'color' not in spam:\n",
        "#spam['color'] = 'black'\n",
        "spam.setdefault('color', 'black')\n"
      ],
      "metadata": {
        "colab": {
          "base_uri": "https://localhost:8080/",
          "height": 38
        },
        "id": "zEEWBDVQS9IO",
        "outputId": "fd6fedca-85f9-4778-adee-6165fa4dea8d"
      },
      "execution_count": 14,
      "outputs": [
        {
          "output_type": "execute_result",
          "data": {
            "text/plain": [
              "'black'"
            ],
            "application/vnd.google.colaboratory.intrinsic+json": {
              "type": "string"
            }
          },
          "metadata": {},
          "execution_count": 14
        }
      ]
    },
    {
      "cell_type": "code",
      "source": [
        "#8. How do you 'pretty print' dictionary values using which module and function?\n",
        "\n",
        "import pprint\n",
        "dnary = [ {'Name': 'Ramesh', 'Sex': 'Male', 'City': 'Mumbai'},\n",
        "  {'Name': 'Sita', 'Sex': 'Female', 'City': 'Chennai'},\n",
        "  {'Name': 'Raj', 'Sex': 'Male', 'City': 'Jaipur'},\n",
        "  {'Name': 'Swaraj', 'Sex': 'Male', 'City': 'Bengaluru'}\n",
        "]\n",
        "# printing with pprint()\n",
        "pprint.pprint(dnary)"
      ],
      "metadata": {
        "colab": {
          "base_uri": "https://localhost:8080/"
        },
        "id": "X4QbkZNkTKvl",
        "outputId": "cc2d4c4c-96a5-4db2-8fda-06dee07dacf8"
      },
      "execution_count": 15,
      "outputs": [
        {
          "output_type": "stream",
          "name": "stdout",
          "text": [
            "[{'City': 'Mumbai', 'Name': 'Ramesh', 'Sex': 'Male'},\n",
            " {'City': 'Chennai', 'Name': 'Sita', 'Sex': 'Female'},\n",
            " {'City': 'Jaipur', 'Name': 'Raj', 'Sex': 'Male'},\n",
            " {'City': 'Bengaluru', 'Name': 'Swaraj', 'Sex': 'Male'}]\n"
          ]
        }
      ]
    },
    {
      "cell_type": "code",
      "source": [],
      "metadata": {
        "id": "DG1V7vpSTLup"
      },
      "execution_count": null,
      "outputs": []
    }
  ]
}