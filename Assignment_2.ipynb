{
  "cells": [
    {
      "cell_type": "code",
      "execution_count": null,
      "metadata": {
        "id": "_eBeIl-Het05"
      },
      "outputs": [],
      "source": [
        "# 1.What are the two values of the Boolean data type? How do you write them?\n",
        "# Two values are True and False"
      ]
    },
    {
      "cell_type": "code",
      "execution_count": null,
      "metadata": {
        "id": "zcsXd20UfGf-"
      },
      "outputs": [],
      "source": [
        "# 2. What are the three different types of Boolean operators?\n",
        "# and, or and not are the 3 types of Boolean operators"
      ]
    },
    {
      "cell_type": "code",
      "execution_count": null,
      "metadata": {
        "id": "j6ys1QiBfagb"
      },
      "outputs": [],
      "source": [
        "# 3. Make a list of each Boolean operator&#39;s truth tables (i.e. every possible combination of Boolean values for the operator and what it evaluate ).\n",
        "# True and True is True.\n",
        "# True and False is False.\n",
        "# False and True is False.\n",
        "# False and False is False.\n",
        "# True or True is True.\n",
        "# True or False is True.\n",
        "# False or True is True.\n",
        "# False or False is False.\n",
        "# not True is False.\n",
        "# not False is True."
      ]
    },
    {
      "cell_type": "code",
      "execution_count": null,
      "metadata": {
        "colab": {
          "base_uri": "https://localhost:8080/"
        },
        "id": "n7XdQvB4gGM7",
        "outputId": "6929da67-d4e3-4177-db85-932e3d47311a"
      },
      "outputs": [
        {
          "name": "stdout",
          "output_type": "stream",
          "text": [
            "Object `expressions` not found.\n",
            "False\n",
            "False\n",
            "True\n",
            "False\n",
            "False\n",
            "True\n"
          ]
        }
      ],
      "source": [
        "4. What are the values of the following expressions?\n",
        "print((5 > 4)and(3 == 5))\n",
        "print(not(5 > 4))\n",
        "print((5 > 4) or (3 == 5))\n",
        "print(not ((5 > 4) or (3 == 5)))\n",
        "print((True and True) and (True == False))\n",
        "print((not False) or (not True))"
      ]
    },
    {
      "cell_type": "code",
      "execution_count": null,
      "metadata": {
        "id": "d64VP0fVgdGT"
      },
      "outputs": [],
      "source": [
        "# 5. What are the six comparison operators?\n",
        "# > - Greater than\n",
        "# >= - Greater than or equal to\n",
        "# < - Less than\n",
        "# <= - Less than or equal to\n",
        "# == - Equal to\n",
        "# != - Not Equal to\n"
      ]
    },
    {
      "cell_type": "code",
      "execution_count": null,
      "metadata": {
        "colab": {
          "base_uri": "https://localhost:8080/"
        },
        "id": "9xYQw9U7iKL3",
        "outputId": "7e1ef6fc-c9b2-4fb6-dec4-127435f2d88b"
      },
      "outputs": [
        {
          "name": "stdout",
          "output_type": "stream",
          "text": [
            "False\n",
            "7\n"
          ]
        }
      ],
      "source": [
        "# 6. How do you tell the difference between the equal to and assignment operators? Describe a condition and when you would use one.\n",
        "# == Equal to sign is used to compare two values and result will be True or False. = Assignment operator is used to assign value or store value in a variable/identifier\n",
        "print(5==6) # Here we are comparing two numbers using ==\n",
        "x=7 # Here we are assigning or storing value in variable x\n",
        "print(x)"
      ]
    },
    {
      "cell_type": "code",
      "execution_count": null,
      "metadata": {
        "colab": {
          "base_uri": "https://localhost:8080/"
        },
        "id": "5NfJB6AjjUrg",
        "outputId": "68c63d16-f0fa-4d6a-d382-6e6d9d1bc5cb"
      },
      "outputs": [
        {
          "name": "stdout",
          "output_type": "stream",
          "text": [
            "spam\n"
          ]
        }
      ],
      "source": [
        "#7. Identify the three blocks in this code:\n",
        "spam = 0\n",
        "if spam == 10: # Block 1\n",
        "  print('eggs')\n",
        "  if spam > 5: #Block 2\n",
        "    print('bacon')\n",
        "  else: # Block 3\n",
        "    print('ham')\n",
        "  print('spam')\n",
        "print('spam')"
      ]
    },
    {
      "cell_type": "code",
      "execution_count": null,
      "metadata": {
        "colab": {
          "base_uri": "https://localhost:8080/"
        },
        "id": "CuC7JRZki8N9",
        "outputId": "f7d51b4b-ff1e-48fc-b347-00d656c52562"
      },
      "outputs": [
        {
          "name": "stdout",
          "output_type": "stream",
          "text": [
            "Enter the value of spam: 1\n",
            "Hello\n"
          ]
        }
      ],
      "source": [
        "#8. Write code that prints Hello if 1 is stored in spam, prints Howdy if 2 is stored in spam, and prints Greetings! if anything else is stored in spam.\n",
        "spam= int(input(\"Enter the value of spam: \"))\n",
        "if spam==1:\n",
        "  print('Hello')\n",
        "elif spam==2:\n",
        "  print('Howdy')\n",
        "else:\n",
        "  print('Welcome')"
      ]
    },
    {
      "cell_type": "code",
      "execution_count": null,
      "metadata": {
        "id": "DhBElCqQmexn"
      },
      "outputs": [],
      "source": [
        "# 9.If your programme is stuck in an endless loop, what keys you’ll press?\n",
        "# We will press CTRL+C to stop the endless loop"
      ]
    },
    {
      "cell_type": "code",
      "execution_count": null,
      "metadata": {
        "id": "_tL7CXpJpLoW"
      },
      "outputs": [],
      "source": [
        "# 10. How can you tell the difference between break and continue?\n",
        "# The break statement will move the execution outside and just after a loop. The continue statement will move the execution to the start of the loop."
      ]
    },
    {
      "cell_type": "code",
      "execution_count": null,
      "metadata": {
        "id": "mCmnMyr5oJjb"
      },
      "outputs": [],
      "source": [
        "# 11. In a for loop, what is the difference between range(10), range(0, 10), and range(0, 10, 1)?\n",
        "# range(10) - In this loop will start from 0 as start position is not mentioned and end will be upto 10 i.e. 9\n",
        "# range(0,10) - In this loop start and end of the loop has been mentioned. It will start with 0 and end with 9 (upto 10)\n",
        "# range(0, 10, 1) - In this loop start and end of the loop has been mentioned with step size. Step size is how much to increase to next iteration in the loop. Default it will be 1."
      ]
    },
    {
      "cell_type": "code",
      "execution_count": 1,
      "metadata": {
        "colab": {
          "base_uri": "https://localhost:8080/"
        },
        "id": "B2-xNYvCrViR",
        "outputId": "772dcc98-35d1-4e55-f027-bcf5eb435abd"
      },
      "outputs": [
        {
          "output_type": "stream",
          "name": "stdout",
          "text": [
            "1\n",
            "2\n",
            "3\n",
            "4\n",
            "5\n",
            "6\n",
            "7\n",
            "8\n",
            "9\n",
            "10\n"
          ]
        }
      ],
      "source": [
        "# 12. Write a short program that prints the numbers 1 to 10 using a for loop. Then write an equivalent program that prints the numbers 1 to 10 using a while loop.\n",
        "# Using for loop\n",
        "for i in range(1,11):\n",
        "  print(i)\n"
      ]
    },
    {
      "cell_type": "code",
      "execution_count": 2,
      "metadata": {
        "id": "ORkG5WRyrnGF",
        "colab": {
          "base_uri": "https://localhost:8080/"
        },
        "outputId": "e742993b-ada5-4a28-c99b-2055f77641b4"
      },
      "outputs": [
        {
          "output_type": "stream",
          "name": "stdout",
          "text": [
            "1\n",
            "2\n",
            "3\n",
            "4\n",
            "5\n",
            "6\n",
            "7\n",
            "8\n",
            "9\n",
            "10\n"
          ]
        }
      ],
      "source": [
        "# Using while loop\n",
        "i=1\n",
        "while i<11:\n",
        "  print(i)\n",
        "  i=i+1"
      ]
    },
    {
      "cell_type": "code",
      "source": [
        "# 13. If you had a function named bacon() inside a module named spam, how would you call it after importing spam?\n",
        "# spam.bacon()"
      ],
      "metadata": {
        "id": "qlAYj3PMiJI8"
      },
      "execution_count": null,
      "outputs": []
    }
  ],
  "metadata": {
    "colab": {
      "provenance": []
    },
    "kernelspec": {
      "display_name": "Python 3",
      "name": "python3"
    },
    "language_info": {
      "name": "python"
    }
  },
  "nbformat": 4,
  "nbformat_minor": 0
}