{
  "nbformat": 4,
  "nbformat_minor": 0,
  "metadata": {
    "colab": {
      "provenance": []
    },
    "kernelspec": {
      "name": "python3",
      "display_name": "Python 3"
    },
    "language_info": {
      "name": "python"
    }
  },
  "cells": [
    {
      "cell_type": "code",
      "execution_count": null,
      "metadata": {
        "id": "QjqsPwWo8Ykk"
      },
      "outputs": [],
      "source": [
        "# 1 Why are functions advantageous to have in your programs?\n",
        "# Functions are Functions reduce the need for duplicate code. This makes programs shorter, easier to read, and easier to update."
      ]
    },
    {
      "cell_type": "code",
      "source": [
        "# 2 When does the code in a function run:when it's specified or when it's called?\n",
        "# Code in the function runs when the function is called"
      ],
      "metadata": {
        "id": "27bnJ-wW8ti0"
      },
      "execution_count": null,
      "outputs": []
    },
    {
      "cell_type": "code",
      "source": [
        "# 3 What statement creates a function?\n",
        "# The def statement defines a function.\n",
        "# Eg:\n",
        "def my_first_func(): # my_first_func function has been created\n",
        "  pass"
      ],
      "metadata": {
        "id": "5ACMLu999WWB"
      },
      "execution_count": null,
      "outputs": []
    },
    {
      "cell_type": "code",
      "source": [
        "#4 What is the difference between a function and a function call?\n",
        "# In Python, a function is a block of code that performs a specific task and may or may not return a value.\n",
        "# A function is defined using the def keyword, followed by the function name and a set of parentheses that may include parameters.\n",
        "# Here is an example of a function definition in Python:\n",
        "\n",
        "def fullname(fname,lname):\n",
        "  print(fname+\" \"+lname)\n",
        "\n",
        "#This function, called fullname, takes a two parameters called fname and lname. It prints a full name by combining first name and last name.\n",
        "\n",
        "#Function call in Python\n",
        "\n",
        "# A function call is an expression that invokes a function.\n",
        "# To call a function in Python, you simply write the function name followed by a set of parentheses that may include arguments.\n",
        "# Here is an example of a function call in Python:\n",
        "\n",
        "fullname(\"Viva\",\"Jain\")\n",
        "\n",
        "# This function call invokes the fullname function with the argument \"Viva\" and \"Jain, which will cause it to print the message \"Viva Jain\"."
      ],
      "metadata": {
        "colab": {
          "base_uri": "https://localhost:8080/"
        },
        "id": "Tf_46XwD-MS4",
        "outputId": "dcd2b99e-7d78-4fd9-cc2f-cdf0c66a0f5a"
      },
      "execution_count": null,
      "outputs": [
        {
          "output_type": "stream",
          "name": "stdout",
          "text": [
            "Viva Jain\n"
          ]
        }
      ]
    },
    {
      "cell_type": "code",
      "source": [
        "# 5. How many global scopes are there in a Python program? How many local scopes?\n",
        "# There is only one global scope in a Python program execution.\n",
        "# This scope remains in existence until the program terminates and a local scope is created whenever a function is called/invoked."
      ],
      "metadata": {
        "id": "tvRuktUGAnBK"
      },
      "execution_count": 1,
      "outputs": []
    },
    {
      "cell_type": "code",
      "source": [
        "# 6. What happens to variables in a local scope when the function call returns?\n",
        "# Python local variables are those which are defined inside a function and their scope is limited to that function only.\n",
        "# In other words, we can say that local variables are accessible only inside the function in which it was initialized.\n",
        "# When a function returns, the local scope is destroyed."
      ],
      "metadata": {
        "id": "plWwPJgoBZhE"
      },
      "execution_count": 2,
      "outputs": []
    },
    {
      "cell_type": "code",
      "source": [
        "# 7. What is the concept of a return value? Is it possible to have a return value in an expression?\n",
        "# A return value is the value that a function call evaluates to. Like any value, a return value can be used as part of an expression.\n",
        "\n",
        "# Function to convert the temperature from Celcius to Fahrenheit\n",
        "def temp_converter (temp_cel):\n",
        " return(temp_cel* 9 / 5) + 32\n",
        "# Main from where the function \"temp_converter\" is called\n",
        "temp_cel = float(input(\"Enter the celsius value : \"))\n",
        "print(temp_cel, \": \", temp_converter (temp_cel))\n",
        "\n",
        "# Example used as part of an expression\n",
        "def square(x):\n",
        "    return x*x\n",
        "t = square(2) * square(3) # Return value can be used as part of expression\n",
        "print(t)"
      ],
      "metadata": {
        "colab": {
          "base_uri": "https://localhost:8080/"
        },
        "id": "0NA048KpCiBD",
        "outputId": "d4c0e198-a992-4638-e3ca-4c1a962910da"
      },
      "execution_count": 2,
      "outputs": [
        {
          "output_type": "stream",
          "name": "stdout",
          "text": [
            "Enter the celsius value : 31\n",
            "31.0 :  87.8\n",
            "36\n"
          ]
        }
      ]
    },
    {
      "cell_type": "code",
      "source": [
        "# 8. If a function does not have a return statement, what is the return value of a call to that function?\n",
        "#  If the funtion does not have a return statement it will not return anything."
      ],
      "metadata": {
        "id": "CnWA4jh5EbuU"
      },
      "execution_count": 3,
      "outputs": []
    },
    {
      "cell_type": "code",
      "source": [
        "# 9. How do you make a function variable refer to the global variable?\n",
        "# To make function variable as a global variable you can use the global keyword to declare which variables are global."
      ],
      "metadata": {
        "id": "ohLhEq40csf6"
      },
      "execution_count": 4,
      "outputs": []
    },
    {
      "cell_type": "code",
      "source": [
        "# 10. What is the data type of None?\n",
        "# The data type of None is NoneType."
      ],
      "metadata": {
        "id": "thvBSVDqSlyK"
      },
      "execution_count": 5,
      "outputs": []
    },
    {
      "cell_type": "code",
      "source": [
        "# 11. What does the sentence import areallyourpetsnamederic do?\n",
        "# This statement imports a module named areallyourpetsnamederic. (But a module of this name doesnt exists in Python). This isn’t a real Python module, by the way.\n",
        "\n"
      ],
      "metadata": {
        "id": "qm2A2IyrTNda"
      },
      "execution_count": 6,
      "outputs": []
    },
    {
      "cell_type": "code",
      "source": [
        "# 12. If you had a bacon() feature in a spam module, what would you call it after importing spam?\n",
        "# This function can be called using spam.bacon()"
      ],
      "metadata": {
        "id": "dzVlHDR9eK2C"
      },
      "execution_count": 7,
      "outputs": []
    },
    {
      "cell_type": "code",
      "source": [
        "# 13. What can you do to save a programme from crashing if it encounters an error?\n",
        "# Place the line of code that might cause an error in a try clause. We can use try except clause to save a program from crashing."
      ],
      "metadata": {
        "id": "8GqHP49Xljlk"
      },
      "execution_count": 8,
      "outputs": []
    },
    {
      "cell_type": "code",
      "source": [
        "# 14. What is the purpose of the try clause? What is the purpose of the except clause?\n",
        "# The code that could potentially cause an error goes in the try clause. The code that executes if an error happens goes in the except clause.\n",
        "#try:\n",
        "  # Code\n",
        "#except:\n",
        "  # Executed if error in the try block"
      ],
      "metadata": {
        "id": "guYJrRQsl_J4"
      },
      "execution_count": 14,
      "outputs": []
    },
    {
      "cell_type": "code",
      "source": [],
      "metadata": {
        "id": "5iTYVc6PmfAT"
      },
      "execution_count": null,
      "outputs": []
    }
  ]
}