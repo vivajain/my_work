{
  "nbformat": 4,
  "nbformat_minor": 0,
  "metadata": {
    "colab": {
      "provenance": []
    },
    "kernelspec": {
      "name": "python3",
      "display_name": "Python 3"
    },
    "language_info": {
      "name": "python"
    }
  },
  "cells": [
    {
      "cell_type": "code",
      "execution_count": null,
      "metadata": {
        "id": "wj7Drmb1pFs_"
      },
      "outputs": [],
      "source": [
        "#1. What exactly is []?\n",
        "# It is an empty list which contains no values.\n"
      ]
    },
    {
      "cell_type": "code",
      "source": [
        "# 2. In a list of values stored in a variable called spam, how would you assign the value 'hello' as the third value? (Assume [2, 4, 6, 8, 10] are in spam.)\n",
        "spam=[2,4,6,8,10]\n",
        "spam[2] = \"hello\" #Index value of third will be 2\n",
        "spam"
      ],
      "metadata": {
        "colab": {
          "base_uri": "https://localhost:8080/"
        },
        "id": "LWWoi7PK4ELC",
        "outputId": "de298bf7-862c-41e1-c3df-541819da3f41"
      },
      "execution_count": null,
      "outputs": [
        {
          "output_type": "execute_result",
          "data": {
            "text/plain": [
              "[2, 4, 'hello', 8, 10]"
            ]
          },
          "metadata": {},
          "execution_count": 5
        }
      ]
    },
    {
      "cell_type": "code",
      "source": [
        "# Lets pretend the spam includes the list ['a','b','c','d'] for the next three queries.\n",
        "# 3. What is the value of spam[int(int('3' * 2) / 11)]?\n",
        "spam=['a','b','c','d']\n",
        "spam[int(int('3' * 2) / 11)]\n",
        "print(int('3'))\n",
        "print(int('3'*2))"
      ],
      "metadata": {
        "colab": {
          "base_uri": "https://localhost:8080/"
        },
        "id": "iindVBwx4JUm",
        "outputId": "5bc529c2-32db-470e-a052-bfe735a961af"
      },
      "execution_count": null,
      "outputs": [
        {
          "output_type": "stream",
          "name": "stdout",
          "text": [
            "3\n",
            "33\n"
          ]
        }
      ]
    },
    {
      "cell_type": "code",
      "source": [
        "# 4. What is the value of spam[-1]?\n",
        "spam=['a','b','c','d']\n",
        "spam[-1]"
      ],
      "metadata": {
        "colab": {
          "base_uri": "https://localhost:8080/",
          "height": 38
        },
        "id": "6VoJBoah6lpY",
        "outputId": "f12c59e4-60b8-49da-eac7-6cea348c32cb"
      },
      "execution_count": null,
      "outputs": [
        {
          "output_type": "execute_result",
          "data": {
            "text/plain": [
              "'d'"
            ],
            "application/vnd.google.colaboratory.intrinsic+json": {
              "type": "string"
            }
          },
          "metadata": {},
          "execution_count": 2
        }
      ]
    },
    {
      "cell_type": "code",
      "source": [
        "# 5. What is the value of spam[:2]?\n",
        "spam=['a','b','c','d']\n",
        "spam[:2]"
      ],
      "metadata": {
        "colab": {
          "base_uri": "https://localhost:8080/"
        },
        "id": "0BUfnCY2sJZJ",
        "outputId": "afcf4af8-1484-45a7-ce8c-386e2e39f070"
      },
      "execution_count": null,
      "outputs": [
        {
          "output_type": "execute_result",
          "data": {
            "text/plain": [
              "['a', 'b']"
            ]
          },
          "metadata": {},
          "execution_count": 4
        }
      ]
    },
    {
      "cell_type": "code",
      "source": [
        "# Let's pretend bacon has the list [3.14,'cat', 11, 'cat',True] for the next three questions.\n",
        "# 6. What is the value of bacon.index('cat')?\n",
        "bacon = [3.14,'cat', 11, 'cat',True]\n",
        "bacon.index('cat')"
      ],
      "metadata": {
        "colab": {
          "base_uri": "https://localhost:8080/"
        },
        "id": "d81WKAtgs_rV",
        "outputId": "69e45f00-7024-40f1-edee-119c9226a760"
      },
      "execution_count": null,
      "outputs": [
        {
          "output_type": "execute_result",
          "data": {
            "text/plain": [
              "1"
            ]
          },
          "metadata": {},
          "execution_count": 7
        }
      ]
    },
    {
      "cell_type": "code",
      "source": [
        "# 7. How does bacon.append(99) change the look of the list value in bacon?\n",
        "bacon = [3.14,'cat', 11, 'cat',True]\n",
        "bacon.append(99)\n",
        "print(bacon)"
      ],
      "metadata": {
        "colab": {
          "base_uri": "https://localhost:8080/"
        },
        "id": "oc20-RKMt4nG",
        "outputId": "179aab82-bc87-4b58-937c-cb777a30a67f"
      },
      "execution_count": null,
      "outputs": [
        {
          "output_type": "stream",
          "name": "stdout",
          "text": [
            "[3.14, 'cat', 11, 'cat', True, 99]\n"
          ]
        }
      ]
    },
    {
      "cell_type": "code",
      "source": [
        "# 8. How does bacon.remove('cat') change the look of the list in bacon?\n",
        "bacon = [3.14,'cat', 11, 'cat',True]\n",
        "bacon.remove('cat')\n",
        "print(bacon)"
      ],
      "metadata": {
        "colab": {
          "base_uri": "https://localhost:8080/"
        },
        "id": "VZlhqvYDuPiD",
        "outputId": "dc190ff0-05dc-4ab1-d6da-40cb1639f6e2"
      },
      "execution_count": null,
      "outputs": [
        {
          "output_type": "stream",
          "name": "stdout",
          "text": [
            "[3.14, 11, 'cat', True]\n"
          ]
        }
      ]
    },
    {
      "cell_type": "code",
      "source": [
        "# 9. What are the list concatenation and list replication operators?\n",
        "# + is list concatenation operator and * is list replication operator\n",
        "list1=[2,3]\n",
        "list2=[4,5]\n",
        "print(list1+list2) # Concatenation\n",
        "list3=['a'*3] # Replication\n",
        "print(list3)"
      ],
      "metadata": {
        "colab": {
          "base_uri": "https://localhost:8080/"
        },
        "id": "wkMqxU1uuTWO",
        "outputId": "5bab2b4b-b06d-4e8b-82ca-c41dc320c14e"
      },
      "execution_count": null,
      "outputs": [
        {
          "output_type": "stream",
          "name": "stdout",
          "text": [
            "[2, 3, 4, 5]\n",
            "['aaa']\n"
          ]
        }
      ]
    },
    {
      "cell_type": "code",
      "source": [
        "# 10. What is difference between the list methods append() and insert()?\n",
        "# append() will add the object at the end of list. insert() will add anywhere in the list i.e. whatever index number mentioned it will insert accordingly.\n",
        "bacon = [3.14,'cat', 11, 'cat',True]\n",
        "bacon.append(99) # Added object at the end of the list\n",
        "print(bacon)\n",
        "bacon.insert(1,'dog') # adding the object at index number 1\n",
        "print(bacon)"
      ],
      "metadata": {
        "colab": {
          "base_uri": "https://localhost:8080/"
        },
        "id": "pxz1Bia9vU2-",
        "outputId": "793d437b-7cc8-4fb1-c4ee-e77187caa5ab"
      },
      "execution_count": null,
      "outputs": [
        {
          "output_type": "stream",
          "name": "stdout",
          "text": [
            "[3.14, 'cat', 11, 'cat', True, 99]\n",
            "[3.14, 'dog', 'cat', 11, 'cat', True, 99]\n"
          ]
        }
      ]
    },
    {
      "cell_type": "code",
      "source": [
        "# 11. What are the two methods for removing items from a list?\n",
        "# There are 3 ways we can remove the items.\n",
        "# One is remove() which removes the object from the first occurence.\n",
        "# Second pop() which removes the object from the list as per mentioned index number and return the value of the index\n",
        "# Third del will removes the object from the list same as pop but it will not return the value.\n",
        "bacon = [3.14,'cat', 11, 'cat',True]\n",
        "bacon.remove('cat') # Removes object from the first occurence\n",
        "print(bacon)\n",
        "print(bacon.pop(1)) # removing the object at the list and returns the value of the index\n",
        "print(bacon)\n",
        "del bacon[2] # it will remove value of index number 2\n",
        "print(bacon)"
      ],
      "metadata": {
        "colab": {
          "base_uri": "https://localhost:8080/"
        },
        "id": "alkmM8zNwG5t",
        "outputId": "24939df2-aad1-4391-abcf-714d100d7126"
      },
      "execution_count": null,
      "outputs": [
        {
          "output_type": "stream",
          "name": "stdout",
          "text": [
            "[3.14, 11, 'cat', True]\n",
            "11\n",
            "[3.14, 'cat', True]\n",
            "[3.14, 'cat']\n"
          ]
        }
      ]
    },
    {
      "cell_type": "code",
      "source": [
        "# 12. Describe how list values and string values are identical.\n",
        "# Both lists and strings can be passed to len()\n",
        "# Both have indexes and slices\n",
        "# Both can be used in for loops\n",
        "# Both can be concatenated or replicated\n",
        "# Both can be used with the in and not in operators"
      ],
      "metadata": {
        "id": "Ww1eHmsqyOXw"
      },
      "execution_count": null,
      "outputs": []
    },
    {
      "cell_type": "code",
      "source": [
        "# 13. What's the difference between tuples and lists?\n",
        "# Tuple is collection of ordered data and list is also collection of ordered data\n",
        "# Tuples are declared within parenthesis and lists are declared within square brackets\n",
        "# Tuples are immutable and lists are mutable\n",
        "# Tuples cannot sorted though ordered data and lists can be sorted in ascending or descending order"
      ],
      "metadata": {
        "id": "WAoIyeEQzGDi"
      },
      "execution_count": null,
      "outputs": []
    },
    {
      "cell_type": "code",
      "source": [
        "# 14. How do you type a tuple value that only contains the integer 42?\n",
        "tuple = (42)\n",
        "print(tuple)\n",
        "tuple1 = (42,) # Comma is mandatory\n",
        "print(tuple1)"
      ],
      "metadata": {
        "id": "rDzMPUAUr7UH",
        "colab": {
          "base_uri": "https://localhost:8080/"
        },
        "outputId": "d1f1b057-7f0e-430b-c46f-12ffb0aa91ce"
      },
      "execution_count": 6,
      "outputs": [
        {
          "output_type": "stream",
          "name": "stdout",
          "text": [
            "42\n",
            "(42,)\n"
          ]
        }
      ]
    },
    {
      "cell_type": "code",
      "source": [
        "# 15. How do you get a list value's tuple form? How do you get a tuple value's list form?\n",
        "# The tuple() and list() functions, respectively\n",
        "my_list = [2,7]\n",
        "atuple = tuple(my_list)\n",
        "print(\"Tuple is : \",atuple)\n",
        "my_tuple = (3,6)\n",
        "alist = list(my_tuple)\n",
        "print(\"List is : \",alist)"
      ],
      "metadata": {
        "colab": {
          "base_uri": "https://localhost:8080/"
        },
        "id": "jlAsC9MOzMNR",
        "outputId": "098220c7-b95f-402b-fca5-d7557490df47"
      },
      "execution_count": 2,
      "outputs": [
        {
          "output_type": "stream",
          "name": "stdout",
          "text": [
            "Tuple is :  (2, 7)\n",
            "List is :  [3, 6]\n"
          ]
        }
      ]
    },
    {
      "cell_type": "code",
      "source": [
        "# 16. Variables that \"contain\" list values are not necessarily lists themselves. Instead, what do they contain?\n",
        "# They contain references to list values"
      ],
      "metadata": {
        "id": "Wb0K0jL7zPfk"
      },
      "execution_count": 4,
      "outputs": []
    },
    {
      "cell_type": "code",
      "source": [
        "# 17. How do you distinguish between copy.copy() and copy.deepcopy()?\n",
        "# The copy.copy() function will do a shallow copy of a list, while the copy.deepcopy() function will do a deep copy of a list.\n",
        "# That is, only copy.deepcopy() will duplicate any lists inside the list."
      ],
      "metadata": {
        "id": "T8XsbVyKzR6n"
      },
      "execution_count": 3,
      "outputs": []
    },
    {
      "cell_type": "code",
      "source": [],
      "metadata": {
        "id": "16IPRlXn1taA"
      },
      "execution_count": 3,
      "outputs": []
    },
    {
      "cell_type": "code",
      "source": [],
      "metadata": {
        "id": "asX8f9BC1uLT"
      },
      "execution_count": 3,
      "outputs": []
    },
    {
      "cell_type": "code",
      "source": [],
      "metadata": {
        "colab": {
          "base_uri": "https://localhost:8080/",
          "height": 200
        },
        "id": "px91jLPoBFOB",
        "outputId": "d8d3e6bc-112f-493d-dfdc-3d0017e70280"
      },
      "execution_count": 20,
      "outputs": [
        {
          "output_type": "error",
          "ename": "TypeError",
          "evalue": "ignored",
          "traceback": [
            "\u001b[0;31m---------------------------------------------------------------------------\u001b[0m",
            "\u001b[0;31mTypeError\u001b[0m                                 Traceback (most recent call last)",
            "\u001b[0;32m<ipython-input-20-778dd7d400f7>\u001b[0m in \u001b[0;36m<cell line: 2>\u001b[0;34m()\u001b[0m\n\u001b[1;32m      1\u001b[0m \u001b[0mmy_list\u001b[0m \u001b[0;34m=\u001b[0m \u001b[0;34m[\u001b[0m\u001b[0;36m12\u001b[0m\u001b[0;34m,\u001b[0m \u001b[0;36m34\u001b[0m\u001b[0;34m,\u001b[0m \u001b[0;36m65\u001b[0m\u001b[0;34m,\u001b[0m \u001b[0;36m57\u001b[0m\u001b[0;34m]\u001b[0m\u001b[0;34m\u001b[0m\u001b[0;34m\u001b[0m\u001b[0m\n\u001b[0;32m----> 2\u001b[0;31m \u001b[0mtuples\u001b[0m \u001b[0;34m=\u001b[0m \u001b[0mtuple\u001b[0m\u001b[0;34m(\u001b[0m\u001b[0mi\u001b[0m \u001b[0;32mfor\u001b[0m \u001b[0mi\u001b[0m \u001b[0;32min\u001b[0m \u001b[0mmy_list\u001b[0m\u001b[0;34m)\u001b[0m\u001b[0;34m\u001b[0m\u001b[0;34m\u001b[0m\u001b[0m\n\u001b[0m\u001b[1;32m      3\u001b[0m \u001b[0mprint\u001b[0m\u001b[0;34m(\u001b[0m\u001b[0mtuples\u001b[0m\u001b[0;34m)\u001b[0m\u001b[0;34m\u001b[0m\u001b[0;34m\u001b[0m\u001b[0m\n",
            "\u001b[0;31mTypeError\u001b[0m: 'int' object is not callable"
          ]
        }
      ]
    },
    {
      "cell_type": "code",
      "source": [],
      "metadata": {
        "id": "vYcyArvgB3N5"
      },
      "execution_count": null,
      "outputs": []
    }
  ]
}